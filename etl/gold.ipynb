{
 "cells": [
  {
   "cell_type": "markdown",
   "metadata": {},
   "source": [
    "### Lendo as tabelas delta do container silver e salvando no container gold"
   ]
  },
  {
   "cell_type": "code",
   "execution_count": null,
   "metadata": {
    "application/vnd.databricks.v1+cell": {
     "cellMetadata": {
      "byteLimit": 2048000,
      "rowLimit": 10000
     },
     "inputWidgets": {},
     "nuid": "7cc79015-af19-4077-98de-cc2731d51a9a",
     "showTitle": false,
     "title": ""
    }
   },
   "outputs": [],
   "source": [
    "from pyspark.sql.functions import year, month, sum, count, avg, format_string, date_format, coalesce, expr, lit\n",
    "\n",
    "storageAccountName = \"satcseguroimoveis\"\n",
    "\n",
    "apolice_df = spark.read.format('delta').load(f\"/mnt/{storageAccountName}/silver/apolice\")\n",
    "sinistro_df = spark.read.format('delta').load(f\"/mnt/{storageAccountName}/silver/sinistro\")\n",
    "imovel_df = spark.read.format('delta').load(f\"/mnt/{storageAccountName}/silver/imovel\")\n",
    "apolice_cobertura_df = spark.read.format('delta').load(f\"/mnt/{storageAccountName}/silver/apolice_cobertura\")\n",
    "cobertura_df = spark.read.format('delta').load(f\"/mnt/{storageAccountName}/silver/cobertura\")\n",
    "avaliacao_df = spark.read.format('delta').load(f\"/mnt/{storageAccountName}/silver/avaliacao\")\n",
    "\n",
    "apolice_df.write.format('delta').mode('overwrite').saveAsTable(\"APOLICE\")\n",
    "sinistro_df.write.format('delta').mode('overwrite').saveAsTable(\"SINISTRO\")\n",
    "imovel_df.write.format('delta').mode('overwrite').saveAsTable(\"IMOVEL\")\n",
    "apolice_cobertura_df.write.format('delta').mode('overwrite').saveAsTable(\"APOLICE_COBERTURA\")\n",
    "cobertura_df.write.format('delta').mode('overwrite').saveAsTable(\"COBERTURA\")\n",
    "avaliacao_df.write.format('delta').mode('overwrite').saveAsTable(\"AVALIACAO\")"
   ]
  },
  {
   "cell_type": "markdown",
   "metadata": {},
   "source": [
    "### Criando a tabela OBT"
   ]
  },
  {
   "cell_type": "code",
   "execution_count": null,
   "metadata": {
    "application/vnd.databricks.v1+cell": {
     "cellMetadata": {
      "byteLimit": 2048000,
      "implicitDf": true,
      "rowLimit": 10000
     },
     "inputWidgets": {},
     "nuid": "e51fface-8ab1-4231-8ae6-59e89d716445",
     "showTitle": false,
     "title": ""
    }
   },
   "outputs": [
    {
     "data": {
      "text/html": [
       "<style scoped>\n",
       "  .table-result-container {\n",
       "    max-height: 300px;\n",
       "    overflow: auto;\n",
       "  }\n",
       "  table, th, td {\n",
       "    border: 1px solid black;\n",
       "    border-collapse: collapse;\n",
       "  }\n",
       "  th, td {\n",
       "    padding: 5px;\n",
       "  }\n",
       "  th {\n",
       "    text-align: left;\n",
       "  }\n",
       "</style><div class='table-result-container'><table class='table-result'><thead style='background-color: white'><tr></tr></thead><tbody></tbody></table></div>"
      ]
     },
     "metadata": {
      "application/vnd.databricks.v1+output": {
       "addedWidgets": {},
       "aggData": [],
       "aggError": "",
       "aggOverflow": false,
       "aggSchema": [],
       "aggSeriesLimitReached": false,
       "aggType": "",
       "arguments": {},
       "columnCustomDisplayInfos": {},
       "data": [],
       "datasetInfos": [],
       "dbfsResultPath": null,
       "isJsonSchema": true,
       "metadata": {
        "dataframeName": null
       },
       "overflow": false,
       "plotOptions": {
        "customPlotOptions": {},
        "displayType": "table",
        "pivotAggregation": null,
        "pivotColumns": null,
        "xColumns": null,
        "yColumns": null
       },
       "removedWidgets": [],
       "schema": [],
       "type": "table"
      }
     },
     "output_type": "display_data"
    }
   ],
   "source": [
    "%sql\n",
    "CREATE OR REPLACE TABLE satcseguroimoveis_obt (\n",
    "    ANO INT,\n",
    "    MES STRING,\n",
    "    TOTAL_DE_VALOR_DE_SINISTRO DECIMAL(38,2) NOT NULL,\n",
    "    VALOR_TOTAL_DAS_APOLICES DECIMAL(38,2) NOT NULL,\n",
    "    TOTAL_DE_ATIVOS DECIMAL(38,2) NOT NULL,\n",
    "    TOTAL_DE_PASSIVOS DECIMAL(38,2) NOT NULL,\n",
    "    NUMERO_TOTAL_DE_IMOVEIS INT NOT NULL,\n",
    "    APOLICES_FINALIZADAS INT NOT NULL,\n",
    "    NUMERO_DE_SINISTROS INT NOT NULL,\n",
    "    NUMERO_DE_APOLICES_VENDIDAS INT NOT NULL,\n",
    "    VALOR_MEDIO_DE_PREMIO DECIMAL(38,6) NOT NULL\n",
    ")\n",
    "USING DELTA;"
   ]
  },
  {
   "cell_type": "markdown",
   "metadata": {},
   "source": [
    "### Inserindo os dados na tabela OBT"
   ]
  },
  {
   "cell_type": "code",
   "execution_count": null,
   "metadata": {
    "application/vnd.databricks.v1+cell": {
     "cellMetadata": {
      "byteLimit": 2048000,
      "implicitDf": true,
      "rowLimit": 10000
     },
     "inputWidgets": {},
     "nuid": "25736f73-bdd9-4932-ae4b-a4f16ca1b8ac",
     "showTitle": false,
     "title": ""
    }
   },
   "outputs": [
    {
     "data": {
      "text/html": [
       "<style scoped>\n",
       "  .table-result-container {\n",
       "    max-height: 300px;\n",
       "    overflow: auto;\n",
       "  }\n",
       "  table, th, td {\n",
       "    border: 1px solid black;\n",
       "    border-collapse: collapse;\n",
       "  }\n",
       "  th, td {\n",
       "    padding: 5px;\n",
       "  }\n",
       "  th {\n",
       "    text-align: left;\n",
       "  }\n",
       "</style><div class='table-result-container'><table class='table-result'><thead style='background-color: white'><tr><th>num_affected_rows</th><th>num_inserted_rows</th></tr></thead><tbody><tr><td>41</td><td>41</td></tr></tbody></table></div>"
      ]
     },
     "metadata": {
      "application/vnd.databricks.v1+output": {
       "addedWidgets": {},
       "aggData": [],
       "aggError": "",
       "aggOverflow": false,
       "aggSchema": [],
       "aggSeriesLimitReached": false,
       "aggType": "",
       "arguments": {},
       "columnCustomDisplayInfos": {},
       "data": [
        [
         41,
         41
        ]
       ],
       "datasetInfos": [],
       "dbfsResultPath": null,
       "isJsonSchema": true,
       "metadata": {
        "dataframeName": "_sqldf",
        "executionCount": 24
       },
       "overflow": false,
       "plotOptions": {
        "customPlotOptions": {},
        "displayType": "table",
        "pivotAggregation": null,
        "pivotColumns": null,
        "xColumns": null,
        "yColumns": null
       },
       "removedWidgets": [],
       "schema": [
        {
         "metadata": "{}",
         "name": "num_affected_rows",
         "type": "\"long\""
        },
        {
         "metadata": "{}",
         "name": "num_inserted_rows",
         "type": "\"long\""
        }
       ],
       "type": "table"
      }
     },
     "output_type": "display_data"
    }
   ],
   "source": [
    "%sql\n",
    "INSERT INTO satcseguroimoveis_obt\n",
    "SELECT \n",
    "    YEAR(A.DATA_INICIO) AS ANO,\n",
    "    DATE_FORMAT(A.DATA_INICIO, 'MMMM') AS MES,\n",
    "    COALESCE(SUM(S.VALOR_SINISTRO), 0) AS TOTAL_DE_VALOR_DE_SINISTRO,\n",
    "    COALESCE(SUM(A.VALOR_APOLICE), 0) AS VALOR_TOTAL_DAS_APOLICES,\n",
    "    COALESCE(SUM(C.VALOR), 0) AS TOTAL_DE_ATIVOS, \n",
    "    COALESCE(SUM(I.VALOR_IMOVEL), 0) AS TOTAL_DE_PASSIVOS, \n",
    "    COALESCE(COUNT(AV.CODIGO_IMOVEL), 0) AS NUMERO_TOTAL_DE_IMOVEIS,\n",
    "    COALESCE(SUM(CASE WHEN A.DATA_TERMINO <= CURRENT_DATE THEN 1 ELSE 0 END), 0) AS APOLICES_FINALIZADAS, \n",
    "    COALESCE(COUNT(DISTINCT S.CODIGO_SINISTRO), 0) AS NUMERO_DE_SINISTROS,\n",
    "    COALESCE(COUNT(DISTINCT A.CODIGO_APOLICE), 0) AS NUMERO_DE_APOLICES_VENDIDAS,\n",
    "    COALESCE(AVG(A.VALOR_APOLICE), 0) AS VALOR_MEDIO_DE_PREMIO\n",
    "FROM \n",
    "    APOLICE A\n",
    "LEFT JOIN \n",
    "    SINISTRO S ON A.CODIGO_APOLICE = S.CODIGO_APOLICE\n",
    "LEFT JOIN \n",
    "    IMOVEL I ON A.CODIGO_IMOVEL = I.CODIGO_IMOVEL\n",
    "LEFT JOIN \n",
    "    APOLICE_COBERTURA AC ON A.CODIGO_APOLICE = AC.CODIGO_APOLICE\n",
    "LEFT JOIN \n",
    "    COBERTURA C ON AC.CODIGO_COBERTURA = C.CODIGO_COBERTURA\n",
    "LEFT JOIN \n",
    "    AVALIACAO AV ON I.CODIGO_IMOVEL = AV.CODIGO_IMOVEL\n",
    "GROUP BY \n",
    "    YEAR(A.DATA_INICIO), DATE_FORMAT(A.DATA_INICIO, 'MMMM');"
   ]
  },
  {
   "cell_type": "markdown",
   "metadata": {},
   "source": [
    "### Consultando os dados gravados"
   ]
  },
  {
   "cell_type": "code",
   "execution_count": null,
   "metadata": {
    "application/vnd.databricks.v1+cell": {
     "cellMetadata": {
      "byteLimit": 2048000,
      "implicitDf": true,
      "rowLimit": 10000
     },
     "inputWidgets": {},
     "nuid": "b6731bf5-ea11-4845-9ccc-2b8086c91b7d",
     "showTitle": false,
     "title": ""
    }
   },
   "outputs": [
    {
     "data": {
      "text/html": [
       "<style scoped>\n",
       "  .table-result-container {\n",
       "    max-height: 300px;\n",
       "    overflow: auto;\n",
       "  }\n",
       "  table, th, td {\n",
       "    border: 1px solid black;\n",
       "    border-collapse: collapse;\n",
       "  }\n",
       "  th, td {\n",
       "    padding: 5px;\n",
       "  }\n",
       "  th {\n",
       "    text-align: left;\n",
       "  }\n",
       "</style><div class='table-result-container'><table class='table-result'><thead style='background-color: white'><tr><th>ANO</th><th>MES</th><th>TOTAL_DE_VALOR_DE_SINISTRO</th><th>VALOR_TOTAL_DAS_APOLICES</th><th>TOTAL_DE_ATIVOS</th><th>TOTAL_DE_PASSIVOS</th><th>NUMERO_TOTAL_DE_IMOVEIS</th><th>APOLICES_FINALIZADAS</th><th>NUMERO_DE_SINISTROS</th><th>NUMERO_DE_APOLICES_VENDIDAS</th><th>VALOR_MEDIO_DE_PREMIO</th></tr></thead><tbody><tr><td>2021</td><td>July</td><td>2770.00</td><td>166364.07</td><td>3540.00</td><td>2821848.65</td><td>16</td><td>0</td><td>3</td><td>3</td><td>10397.754375</td></tr><tr><td>2023</td><td>December</td><td>7070.00</td><td>1460232.95</td><td>7750.00</td><td>31003657.25</td><td>43</td><td>0</td><td>9</td><td>6</td><td>33958.905814</td></tr><tr><td>2021</td><td>April</td><td>1230.00</td><td>227347.14</td><td>1820.00</td><td>4996640.40</td><td>6</td><td>0</td><td>2</td><td>1</td><td>37891.190000</td></tr><tr><td>2021</td><td>October</td><td>800.00</td><td>104140.50</td><td>1410.00</td><td>3302721.98</td><td>8</td><td>0</td><td>3</td><td>2</td><td>13017.562500</td></tr><tr><td>2024</td><td>February</td><td>12060.00</td><td>3083748.18</td><td>16760.00</td><td>43807972.77</td><td>75</td><td>0</td><td>18</td><td>11</td><td>41116.642400</td></tr><tr><td>2023</td><td>October</td><td>3010.00</td><td>410005.28</td><td>4210.00</td><td>7647328.20</td><td>17</td><td>1</td><td>4</td><td>6</td><td>24117.957647</td></tr><tr><td>2023</td><td>February</td><td>9350.00</td><td>1437843.28</td><td>9610.00</td><td>28134327.81</td><td>42</td><td>0</td><td>9</td><td>6</td><td>34234.363810</td></tr><tr><td>2022</td><td>April</td><td>2000.00</td><td>672901.78</td><td>5040.00</td><td>14640756.48</td><td>25</td><td>0</td><td>6</td><td>3</td><td>26916.071200</td></tr><tr><td>2023</td><td>September</td><td>6600.00</td><td>2054569.14</td><td>8930.00</td><td>24823733.76</td><td>37</td><td>0</td><td>4</td><td>6</td><td>55528.895676</td></tr><tr><td>2022</td><td>September</td><td>17250.00</td><td>2213998.22</td><td>13390.00</td><td>32830262.12</td><td>49</td><td>0</td><td>9</td><td>4</td><td>45183.637143</td></tr><tr><td>2022</td><td>May</td><td>7020.00</td><td>632528.36</td><td>6900.00</td><td>10656289.46</td><td>29</td><td>0</td><td>8</td><td>5</td><td>21811.322759</td></tr><tr><td>2024</td><td>March</td><td>8510.00</td><td>853090.34</td><td>8130.00</td><td>17473178.76</td><td>44</td><td>10</td><td>8</td><td>8</td><td>19388.416818</td></tr><tr><td>2022</td><td>December</td><td>1200.00</td><td>209864.74</td><td>2500.00</td><td>4126712.40</td><td>13</td><td>0</td><td>2</td><td>3</td><td>16143.441538</td></tr><tr><td>2024</td><td>January</td><td>14440.00</td><td>3377513.03</td><td>18160.00</td><td>53223808.69</td><td>91</td><td>0</td><td>17</td><td>11</td><td>37115.527802</td></tr><tr><td>2021</td><td>February</td><td>800.00</td><td>51188.16</td><td>480.00</td><td>2132839.68</td><td>4</td><td>0</td><td>1</td><td>1</td><td>12797.040000</td></tr><tr><td>2024</td><td>April</td><td>20610.00</td><td>2665612.61</td><td>16860.00</td><td>48206552.59</td><td>77</td><td>2</td><td>22</td><td>10</td><td>34618.345584</td></tr><tr><td>2022</td><td>October</td><td>700.00</td><td>26516.06</td><td>430.00</td><td>1233305.24</td><td>2</td><td>0</td><td>1</td><td>1</td><td>13258.030000</td></tr><tr><td>2022</td><td>March</td><td>4640.00</td><td>392240.13</td><td>5940.00</td><td>9900828.36</td><td>24</td><td>0</td><td>7</td><td>4</td><td>16343.338750</td></tr><tr><td>2021</td><td>January</td><td>2800.00</td><td>272985.02</td><td>2640.00</td><td>5161342.02</td><td>10</td><td>0</td><td>2</td><td>2</td><td>27298.502000</td></tr><tr><td>2023</td><td>July</td><td>5950.00</td><td>1173778.03</td><td>6730.00</td><td>14784370.86</td><td>29</td><td>0</td><td>5</td><td>4</td><td>40475.104483</td></tr><tr><td>2021</td><td>March</td><td>4400.00</td><td>499063.95</td><td>3600.00</td><td>8811850.49</td><td>18</td><td>7</td><td>2</td><td>4</td><td>27725.775000</td></tr><tr><td>2023</td><td>May</td><td>8000.00</td><td>1565533.24</td><td>10290.00</td><td>25053408.10</td><td>46</td><td>0</td><td>10</td><td>8</td><td>34033.331304</td></tr><tr><td>2023</td><td>April</td><td>8940.00</td><td>1324858.41</td><td>8730.00</td><td>25256520.84</td><td>41</td><td>8</td><td>9</td><td>5</td><td>32313.619756</td></tr><tr><td>2021</td><td>May</td><td>820.00</td><td>46346.60</td><td>820.00</td><td>2260810.72</td><td>4</td><td>0</td><td>2</td><td>1</td><td>11586.650000</td></tr><tr><td>2022</td><td>June</td><td>4960.00</td><td>457906.34</td><td>7600.00</td><td>7479008.45</td><td>31</td><td>0</td><td>6</td><td>6</td><td>14771.172258</td></tr><tr><td>2023</td><td>March</td><td>5320.00</td><td>1778500.74</td><td>9390.00</td><td>30945925.89</td><td>47</td><td>8</td><td>7</td><td>7</td><td>37840.441277</td></tr><tr><td>2023</td><td>June</td><td>400.00</td><td>602821.42</td><td>2260.00</td><td>7390137.78</td><td>10</td><td>0</td><td>2</td><td>2</td><td>60282.142000</td></tr><tr><td>2022</td><td>July</td><td>600.00</td><td>71223.82</td><td>1950.00</td><td>2088896.33</td><td>10</td><td>0</td><td>1</td><td>3</td><td>7122.382000</td></tr><tr><td>2023</td><td>January</td><td>7540.00</td><td>698148.90</td><td>8350.00</td><td>19118919.30</td><td>36</td><td>0</td><td>12</td><td>7</td><td>19393.025000</td></tr><tr><td>2024</td><td>May</td><td>14070.00</td><td>4687589.98</td><td>23910.00</td><td>81408353.76</td><td>112</td><td>0</td><td>23</td><td>15</td><td>41853.481964</td></tr><tr><td>2022</td><td>February</td><td>6500.00</td><td>1268980.32</td><td>10560.00</td><td>13512278.88</td><td>45</td><td>0</td><td>5</td><td>3</td><td>28199.562667</td></tr><tr><td>2021</td><td>August</td><td>700.00</td><td>33098.58</td><td>550.00</td><td>1203584.38</td><td>2</td><td>0</td><td>1</td><td>1</td><td>16549.290000</td></tr><tr><td>2021</td><td>September</td><td>2400.00</td><td>167408.46</td><td>1240.00</td><td>2700136.62</td><td>6</td><td>0</td><td>1</td><td>1</td><td>27901.410000</td></tr><tr><td>2022</td><td>January</td><td>10580.00</td><td>948897.62</td><td>8450.00</td><td>16097441.36</td><td>34</td><td>0</td><td>8</td><td>3</td><td>27908.753529</td></tr><tr><td>2021</td><td>June</td><td>300.00</td><td>8268.70</td><td>300.00</td><td>551246.73</td><td>1</td><td>1</td><td>1</td><td>1</td><td>8268.700000</td></tr><tr><td>2022</td><td>August</td><td>7280.00</td><td>1341835.88</td><td>8840.00</td><td>23802510.38</td><td>44</td><td>0</td><td>8</td><td>8</td><td>30496.270000</td></tr><tr><td>2023</td><td>November</td><td>3530.00</td><td>469180.14</td><td>4930.00</td><td>14789015.86</td><td>31</td><td>0</td><td>8</td><td>5</td><td>15134.843226</td></tr><tr><td>2023</td><td>August</td><td>12980.00</td><td>1834629.88</td><td>14490.00</td><td>39971793.72</td><td>70</td><td>5</td><td>18</td><td>13</td><td>26208.998286</td></tr><tr><td>2022</td><td>November</td><td>3500.00</td><td>720147.32</td><td>4240.00</td><td>8883592.47</td><td>16</td><td>2</td><td>4</td><td>4</td><td>45009.207500</td></tr><tr><td>2021</td><td>December</td><td>600.00</td><td>88896.75</td><td>1130.00</td><td>2969775.15</td><td>6</td><td>0</td><td>1</td><td>2</td><td>14816.125000</td></tr><tr><td>2024</td><td>June</td><td>4640.00</td><td>1312423.34</td><td>7350.00</td><td>18457731.40</td><td>29</td><td>0</td><td>7</td><td>6</td><td>45255.977241</td></tr><tr><td>2021</td><td>July</td><td>2770.00</td><td>166364.07</td><td>3540.00</td><td>2821848.65</td><td>16</td><td>0</td><td>3</td><td>3</td><td>10397.754375</td></tr><tr><td>2023</td><td>December</td><td>7070.00</td><td>1460232.95</td><td>7750.00</td><td>31003657.25</td><td>43</td><td>0</td><td>9</td><td>6</td><td>33958.905814</td></tr><tr><td>2021</td><td>April</td><td>1230.00</td><td>227347.14</td><td>1820.00</td><td>4996640.40</td><td>6</td><td>0</td><td>2</td><td>1</td><td>37891.190000</td></tr><tr><td>2021</td><td>October</td><td>800.00</td><td>104140.50</td><td>1410.00</td><td>3302721.98</td><td>8</td><td>0</td><td>3</td><td>2</td><td>13017.562500</td></tr><tr><td>2024</td><td>February</td><td>12060.00</td><td>3083748.18</td><td>16760.00</td><td>43807972.77</td><td>75</td><td>0</td><td>18</td><td>11</td><td>41116.642400</td></tr><tr><td>2023</td><td>October</td><td>3010.00</td><td>410005.28</td><td>4210.00</td><td>7647328.20</td><td>17</td><td>1</td><td>4</td><td>6</td><td>24117.957647</td></tr><tr><td>2023</td><td>February</td><td>9350.00</td><td>1437843.28</td><td>9610.00</td><td>28134327.81</td><td>42</td><td>0</td><td>9</td><td>6</td><td>34234.363810</td></tr><tr><td>2022</td><td>April</td><td>2000.00</td><td>672901.78</td><td>5040.00</td><td>14640756.48</td><td>25</td><td>0</td><td>6</td><td>3</td><td>26916.071200</td></tr><tr><td>2023</td><td>September</td><td>6600.00</td><td>2054569.14</td><td>8930.00</td><td>24823733.76</td><td>37</td><td>0</td><td>4</td><td>6</td><td>55528.895676</td></tr></tbody></table></div>"
      ]
     },
     "metadata": {
      "application/vnd.databricks.v1+output": {
       "addedWidgets": {},
       "aggData": [],
       "aggError": "",
       "aggOverflow": false,
       "aggSchema": [],
       "aggSeriesLimitReached": false,
       "aggType": "",
       "arguments": {},
       "columnCustomDisplayInfos": {},
       "data": [
        [
         2021,
         "July",
         "2770.00",
         "166364.07",
         "3540.00",
         "2821848.65",
         16,
         0,
         3,
         3,
         "10397.754375"
        ],
        [
         2023,
         "December",
         "7070.00",
         "1460232.95",
         "7750.00",
         "31003657.25",
         43,
         0,
         9,
         6,
         "33958.905814"
        ],
        [
         2021,
         "April",
         "1230.00",
         "227347.14",
         "1820.00",
         "4996640.40",
         6,
         0,
         2,
         1,
         "37891.190000"
        ],
        [
         2021,
         "October",
         "800.00",
         "104140.50",
         "1410.00",
         "3302721.98",
         8,
         0,
         3,
         2,
         "13017.562500"
        ],
        [
         2024,
         "February",
         "12060.00",
         "3083748.18",
         "16760.00",
         "43807972.77",
         75,
         0,
         18,
         11,
         "41116.642400"
        ],
        [
         2023,
         "October",
         "3010.00",
         "410005.28",
         "4210.00",
         "7647328.20",
         17,
         1,
         4,
         6,
         "24117.957647"
        ],
        [
         2023,
         "February",
         "9350.00",
         "1437843.28",
         "9610.00",
         "28134327.81",
         42,
         0,
         9,
         6,
         "34234.363810"
        ],
        [
         2022,
         "April",
         "2000.00",
         "672901.78",
         "5040.00",
         "14640756.48",
         25,
         0,
         6,
         3,
         "26916.071200"
        ],
        [
         2023,
         "September",
         "6600.00",
         "2054569.14",
         "8930.00",
         "24823733.76",
         37,
         0,
         4,
         6,
         "55528.895676"
        ],
        [
         2022,
         "September",
         "17250.00",
         "2213998.22",
         "13390.00",
         "32830262.12",
         49,
         0,
         9,
         4,
         "45183.637143"
        ],
        [
         2022,
         "May",
         "7020.00",
         "632528.36",
         "6900.00",
         "10656289.46",
         29,
         0,
         8,
         5,
         "21811.322759"
        ],
        [
         2024,
         "March",
         "8510.00",
         "853090.34",
         "8130.00",
         "17473178.76",
         44,
         10,
         8,
         8,
         "19388.416818"
        ],
        [
         2022,
         "December",
         "1200.00",
         "209864.74",
         "2500.00",
         "4126712.40",
         13,
         0,
         2,
         3,
         "16143.441538"
        ],
        [
         2024,
         "January",
         "14440.00",
         "3377513.03",
         "18160.00",
         "53223808.69",
         91,
         0,
         17,
         11,
         "37115.527802"
        ],
        [
         2021,
         "February",
         "800.00",
         "51188.16",
         "480.00",
         "2132839.68",
         4,
         0,
         1,
         1,
         "12797.040000"
        ],
        [
         2024,
         "April",
         "20610.00",
         "2665612.61",
         "16860.00",
         "48206552.59",
         77,
         2,
         22,
         10,
         "34618.345584"
        ],
        [
         2022,
         "October",
         "700.00",
         "26516.06",
         "430.00",
         "1233305.24",
         2,
         0,
         1,
         1,
         "13258.030000"
        ],
        [
         2022,
         "March",
         "4640.00",
         "392240.13",
         "5940.00",
         "9900828.36",
         24,
         0,
         7,
         4,
         "16343.338750"
        ],
        [
         2021,
         "January",
         "2800.00",
         "272985.02",
         "2640.00",
         "5161342.02",
         10,
         0,
         2,
         2,
         "27298.502000"
        ],
        [
         2023,
         "July",
         "5950.00",
         "1173778.03",
         "6730.00",
         "14784370.86",
         29,
         0,
         5,
         4,
         "40475.104483"
        ],
        [
         2021,
         "March",
         "4400.00",
         "499063.95",
         "3600.00",
         "8811850.49",
         18,
         7,
         2,
         4,
         "27725.775000"
        ],
        [
         2023,
         "May",
         "8000.00",
         "1565533.24",
         "10290.00",
         "25053408.10",
         46,
         0,
         10,
         8,
         "34033.331304"
        ],
        [
         2023,
         "April",
         "8940.00",
         "1324858.41",
         "8730.00",
         "25256520.84",
         41,
         8,
         9,
         5,
         "32313.619756"
        ],
        [
         2021,
         "May",
         "820.00",
         "46346.60",
         "820.00",
         "2260810.72",
         4,
         0,
         2,
         1,
         "11586.650000"
        ],
        [
         2022,
         "June",
         "4960.00",
         "457906.34",
         "7600.00",
         "7479008.45",
         31,
         0,
         6,
         6,
         "14771.172258"
        ],
        [
         2023,
         "March",
         "5320.00",
         "1778500.74",
         "9390.00",
         "30945925.89",
         47,
         8,
         7,
         7,
         "37840.441277"
        ],
        [
         2023,
         "June",
         "400.00",
         "602821.42",
         "2260.00",
         "7390137.78",
         10,
         0,
         2,
         2,
         "60282.142000"
        ],
        [
         2022,
         "July",
         "600.00",
         "71223.82",
         "1950.00",
         "2088896.33",
         10,
         0,
         1,
         3,
         "7122.382000"
        ],
        [
         2023,
         "January",
         "7540.00",
         "698148.90",
         "8350.00",
         "19118919.30",
         36,
         0,
         12,
         7,
         "19393.025000"
        ],
        [
         2024,
         "May",
         "14070.00",
         "4687589.98",
         "23910.00",
         "81408353.76",
         112,
         0,
         23,
         15,
         "41853.481964"
        ],
        [
         2022,
         "February",
         "6500.00",
         "1268980.32",
         "10560.00",
         "13512278.88",
         45,
         0,
         5,
         3,
         "28199.562667"
        ],
        [
         2021,
         "August",
         "700.00",
         "33098.58",
         "550.00",
         "1203584.38",
         2,
         0,
         1,
         1,
         "16549.290000"
        ],
        [
         2021,
         "September",
         "2400.00",
         "167408.46",
         "1240.00",
         "2700136.62",
         6,
         0,
         1,
         1,
         "27901.410000"
        ],
        [
         2022,
         "January",
         "10580.00",
         "948897.62",
         "8450.00",
         "16097441.36",
         34,
         0,
         8,
         3,
         "27908.753529"
        ],
        [
         2021,
         "June",
         "300.00",
         "8268.70",
         "300.00",
         "551246.73",
         1,
         1,
         1,
         1,
         "8268.700000"
        ],
        [
         2022,
         "August",
         "7280.00",
         "1341835.88",
         "8840.00",
         "23802510.38",
         44,
         0,
         8,
         8,
         "30496.270000"
        ],
        [
         2023,
         "November",
         "3530.00",
         "469180.14",
         "4930.00",
         "14789015.86",
         31,
         0,
         8,
         5,
         "15134.843226"
        ],
        [
         2023,
         "August",
         "12980.00",
         "1834629.88",
         "14490.00",
         "39971793.72",
         70,
         5,
         18,
         13,
         "26208.998286"
        ],
        [
         2022,
         "November",
         "3500.00",
         "720147.32",
         "4240.00",
         "8883592.47",
         16,
         2,
         4,
         4,
         "45009.207500"
        ],
        [
         2021,
         "December",
         "600.00",
         "88896.75",
         "1130.00",
         "2969775.15",
         6,
         0,
         1,
         2,
         "14816.125000"
        ],
        [
         2024,
         "June",
         "4640.00",
         "1312423.34",
         "7350.00",
         "18457731.40",
         29,
         0,
         7,
         6,
         "45255.977241"
        ],
        [
         2021,
         "July",
         "2770.00",
         "166364.07",
         "3540.00",
         "2821848.65",
         16,
         0,
         3,
         3,
         "10397.754375"
        ],
        [
         2023,
         "December",
         "7070.00",
         "1460232.95",
         "7750.00",
         "31003657.25",
         43,
         0,
         9,
         6,
         "33958.905814"
        ],
        [
         2021,
         "April",
         "1230.00",
         "227347.14",
         "1820.00",
         "4996640.40",
         6,
         0,
         2,
         1,
         "37891.190000"
        ],
        [
         2021,
         "October",
         "800.00",
         "104140.50",
         "1410.00",
         "3302721.98",
         8,
         0,
         3,
         2,
         "13017.562500"
        ],
        [
         2024,
         "February",
         "12060.00",
         "3083748.18",
         "16760.00",
         "43807972.77",
         75,
         0,
         18,
         11,
         "41116.642400"
        ],
        [
         2023,
         "October",
         "3010.00",
         "410005.28",
         "4210.00",
         "7647328.20",
         17,
         1,
         4,
         6,
         "24117.957647"
        ],
        [
         2023,
         "February",
         "9350.00",
         "1437843.28",
         "9610.00",
         "28134327.81",
         42,
         0,
         9,
         6,
         "34234.363810"
        ],
        [
         2022,
         "April",
         "2000.00",
         "672901.78",
         "5040.00",
         "14640756.48",
         25,
         0,
         6,
         3,
         "26916.071200"
        ],
        [
         2023,
         "September",
         "6600.00",
         "2054569.14",
         "8930.00",
         "24823733.76",
         37,
         0,
         4,
         6,
         "55528.895676"
        ]
       ],
       "datasetInfos": [],
       "dbfsResultPath": null,
       "isJsonSchema": true,
       "metadata": {
        "dataframeName": "_sqldf",
        "executionCount": 25
       },
       "overflow": false,
       "plotOptions": {
        "customPlotOptions": {},
        "displayType": "table",
        "pivotAggregation": null,
        "pivotColumns": null,
        "xColumns": null,
        "yColumns": null
       },
       "removedWidgets": [],
       "schema": [
        {
         "metadata": "{}",
         "name": "ANO",
         "type": "\"integer\""
        },
        {
         "metadata": "{}",
         "name": "MES",
         "type": "\"string\""
        },
        {
         "metadata": "{}",
         "name": "TOTAL_DE_VALOR_DE_SINISTRO",
         "type": "\"decimal(38,2)\""
        },
        {
         "metadata": "{}",
         "name": "VALOR_TOTAL_DAS_APOLICES",
         "type": "\"decimal(38,2)\""
        },
        {
         "metadata": "{}",
         "name": "TOTAL_DE_ATIVOS",
         "type": "\"decimal(38,2)\""
        },
        {
         "metadata": "{}",
         "name": "TOTAL_DE_PASSIVOS",
         "type": "\"decimal(38,2)\""
        },
        {
         "metadata": "{}",
         "name": "NUMERO_TOTAL_DE_IMOVEIS",
         "type": "\"integer\""
        },
        {
         "metadata": "{}",
         "name": "APOLICES_FINALIZADAS",
         "type": "\"integer\""
        },
        {
         "metadata": "{}",
         "name": "NUMERO_DE_SINISTROS",
         "type": "\"integer\""
        },
        {
         "metadata": "{}",
         "name": "NUMERO_DE_APOLICES_VENDIDAS",
         "type": "\"integer\""
        },
        {
         "metadata": "{}",
         "name": "VALOR_MEDIO_DE_PREMIO",
         "type": "\"decimal(38,6)\""
        }
       ],
       "type": "table"
      }
     },
     "output_type": "display_data"
    }
   ],
   "source": [
    "%sql\n",
    "SELECT * FROM satcseguroimoveis_obt LIMIT 50"
   ]
  },
  {
   "cell_type": "code",
   "execution_count": null,
   "metadata": {
    "application/vnd.databricks.v1+cell": {
     "cellMetadata": {
      "byteLimit": 2048000,
      "rowLimit": 10000
     },
     "inputWidgets": {},
     "nuid": "da9a75d6-42fd-4007-b890-c2fb50d88e7c",
     "showTitle": false,
     "title": ""
    }
   },
   "outputs": [],
   "source": [
    "df_obt = spark.table(\"satcseguroimoveis_obt\")\n",
    "df_obt.write.format('delta').save(f\"/mnt/satcseguroimoveis/gold/satcseguroimoveis_obt\")"
   ]
  },
  {
   "cell_type": "code",
   "execution_count": null,
   "metadata": {
    "application/vnd.databricks.v1+cell": {
     "cellMetadata": {
      "byteLimit": 2048000,
      "rowLimit": 10000
     },
     "inputWidgets": {},
     "nuid": "f4d2e0da-fc8d-4628-add0-ca0104fc805e",
     "showTitle": false,
     "title": ""
    }
   },
   "outputs": [
    {
     "name": "stdout",
     "output_type": "stream",
     "text": [
      "+----+---------+--------------------------+------------------------+---------------+-----------------+-----------------------+--------------------+-------------------+---------------------------+---------------------+\n",
      "| ANO|      MES|TOTAL_DE_VALOR_DE_SINISTRO|VALOR_TOTAL_DAS_APOLICES|TOTAL_DE_ATIVOS|TOTAL_DE_PASSIVOS|NUMERO_TOTAL_DE_IMOVEIS|APOLICES_FINALIZADAS|NUMERO_DE_SINISTROS|NUMERO_DE_APOLICES_VENDIDAS|VALOR_MEDIO_DE_PREMIO|\n",
      "+----+---------+--------------------------+------------------------+---------------+-----------------+-----------------------+--------------------+-------------------+---------------------------+---------------------+\n",
      "|2021|     July|                   2770.00|               166364.07|        3540.00|       2821848.65|                     16|                   0|                  3|                          3|         10397.754375|\n",
      "|2023| December|                   7070.00|              1460232.95|        7750.00|      31003657.25|                     43|                   0|                  9|                          6|         33958.905814|\n",
      "|2021|    April|                   1230.00|               227347.14|        1820.00|       4996640.40|                      6|                   0|                  2|                          1|         37891.190000|\n",
      "|2021|  October|                    800.00|               104140.50|        1410.00|       3302721.98|                      8|                   0|                  3|                          2|         13017.562500|\n",
      "|2024| February|                  12060.00|              3083748.18|       16760.00|      43807972.77|                     75|                   0|                 18|                         11|         41116.642400|\n",
      "|2023|  October|                   3010.00|               410005.28|        4210.00|       7647328.20|                     17|                   1|                  4|                          6|         24117.957647|\n",
      "|2023| February|                   9350.00|              1437843.28|        9610.00|      28134327.81|                     42|                   0|                  9|                          6|         34234.363810|\n",
      "|2022|    April|                   2000.00|               672901.78|        5040.00|      14640756.48|                     25|                   0|                  6|                          3|         26916.071200|\n",
      "|2023|September|                   6600.00|              2054569.14|        8930.00|      24823733.76|                     37|                   0|                  4|                          6|         55528.895676|\n",
      "|2022|September|                  17250.00|              2213998.22|       13390.00|      32830262.12|                     49|                   0|                  9|                          4|         45183.637143|\n",
      "+----+---------+--------------------------+------------------------+---------------+-----------------+-----------------------+--------------------+-------------------+---------------------------+---------------------+\n",
      "only showing top 10 rows\n",
      "\n"
     ]
    }
   ],
   "source": [
    "df_obt = spark.read.format('delta').load(f\"/mnt/satcseguroimoveis/gold/satcseguroimoveis_obt\")\n",
    "df_obt.show(10)"
   ]
  }
 ],
 "metadata": {
  "application/vnd.databricks.v1+notebook": {
   "dashboards": [],
   "environmentMetadata": null,
   "language": "python",
   "notebookMetadata": {
    "mostRecentlyExecutedCommandWithImplicitDF": {
     "commandId": 1612067014555617,
     "dataframes": [
      "_sqldf"
     ]
    },
    "pythonIndentUnit": 4
   },
   "notebookName": "gold",
   "widgets": {}
  },
  "language_info": {
   "name": "python"
  }
 },
 "nbformat": 4,
 "nbformat_minor": 0
}
